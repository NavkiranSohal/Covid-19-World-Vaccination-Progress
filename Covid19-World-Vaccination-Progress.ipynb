{
 "cells": [
  {
   "cell_type": "code",
   "execution_count": null,
   "id": "f06448ae",
   "metadata": {},
   "outputs": [],
   "source": [
    "#Importing the libraries\n",
    "\n",
    "import numpy as np\n",
    "import pandas as pd\n",
    "import matplotlib.pyplot as plt\n",
    "%matplotlib inline\n",
    "import plotly.graph_objs as go\n",
    "import plotly.express as px\n",
    "from plotly.offline import init_notebook_mode, download_plotlyjs, plot,iplot\n",
    "init_notebook_mode(connected=True)"
   ]
  },
  {
   "cell_type": "code",
   "execution_count": null,
   "id": "bc2a2d70",
   "metadata": {},
   "outputs": [],
   "source": [
    "#current working directory\n",
    "\n",
    "import os\n",
    "os.getcwd()"
   ]
  },
  {
   "cell_type": "code",
   "execution_count": null,
   "id": "66ef753d",
   "metadata": {},
   "outputs": [],
   "source": [
    "#Loading the dataset\n",
    "\n",
    "df=pd.read_csv('C:\\\\Users\\\\mxs210020\\\\Documents\\\\11\\\\Projects\\\\Covid-19 World Vaccination Progress\\\\country_vaccinations.csv')"
   ]
  },
  {
   "cell_type": "code",
   "execution_count": null,
   "id": "e7700d83",
   "metadata": {},
   "outputs": [],
   "source": [
    "df.head()"
   ]
  },
  {
   "cell_type": "code",
   "execution_count": null,
   "id": "f76502ae",
   "metadata": {},
   "outputs": [],
   "source": [
    "#dataset variables description\n",
    "\n",
    "#there are some vaccines for which 2 doses to be taken\n",
    "#hence, total_vaccinations might be greater than the people_vaccinated in some cases\n",
    "\n",
    "#total_vaccination_per_hundred=ratio of vaccination number and total population of that country (in percent)\n",
    "#people_vaccinated_per_hundred=ratio of people vaccinated and total population of that country (in percent)\n",
    "#people_fully_vaccinated_per_hundred=ratio of people fully vaccinated and total population of that country (in percent)\n",
    "#daily_vaccinations_per_million= (in ppm) ratio of daily vaccinations and total population of that country\n",
    "\n",
    "#vaccines = vaccines thar are being used in that particular country"
   ]
  },
  {
   "cell_type": "code",
   "execution_count": null,
   "id": "a8e8ba0b",
   "metadata": {},
   "outputs": [],
   "source": [
    "df.shape"
   ]
  },
  {
   "cell_type": "code",
   "execution_count": null,
   "id": "cfbb9eeb",
   "metadata": {},
   "outputs": [],
   "source": [
    "#grouped by country, iso_code and vaccines\n",
    "\n",
    "df_grouped_by_country=df.groupby(['country','iso_code','vaccines'])"
   ]
  },
  {
   "cell_type": "code",
   "execution_count": null,
   "id": "9c20b085",
   "metadata": {},
   "outputs": [],
   "source": [
    "df_grouped_by_country=df.groupby(['country','iso_code','vaccines'])['total_vaccinations','total_vaccinations_per_hundred','daily_vaccinations',\n",
    "                                                                   'daily_vaccinations_per_million','people_vaccinated','people_vaccinated_per_hundred',\n",
    "                                                                   'people_fully_vaccinated','people_fully_vaccinated_per_hundred']"
   ]
  },
  {
   "cell_type": "code",
   "execution_count": null,
   "id": "f36d2b37",
   "metadata": {},
   "outputs": [],
   "source": [
    "#getting the maximun values\n",
    "#all the following analysis will be based on max values\n",
    "\n",
    "df_grouped_by_country=df_grouped_by_country.max().reset_index()"
   ]
  },
  {
   "cell_type": "code",
   "execution_count": null,
   "id": "e5d72c45",
   "metadata": {},
   "outputs": [],
   "source": [
    "#renaming the columns selected\n",
    "\n",
    "df_grouped_by_country.columns=[\"Country\", \"iso_code\", \"Vaccines\", \"Total vaccinations\", \"Percent\", \"Daily vaccinations\", \n",
    "                           \"Daily vaccinations per million\", \"People vaccinated\", \"People vaccinated per hundred\",\n",
    "                           'People fully vaccinated', 'People fully vaccinated percent']"
   ]
  },
  {
   "cell_type": "code",
   "execution_count": null,
   "id": "5ccab0cf",
   "metadata": {},
   "outputs": [],
   "source": [
    "#data for maximum values\n",
    "\n",
    "df_grouped_by_country.head()"
   ]
  },
  {
   "cell_type": "markdown",
   "id": "0d8d627c",
   "metadata": {},
   "source": [
    "WHICH VACCINES ARE BEING USED BY WHICH COUNTRIES"
   ]
  },
  {
   "cell_type": "code",
   "execution_count": null,
   "id": "b7d487c5",
   "metadata": {},
   "outputs": [],
   "source": [
    "vaccines=df_grouped_by_country['Vaccines'].unique()"
   ]
  },
  {
   "cell_type": "code",
   "execution_count": null,
   "id": "73752f66",
   "metadata": {},
   "outputs": [],
   "source": [
    "vaccines"
   ]
  },
  {
   "cell_type": "code",
   "execution_count": null,
   "id": "ff31de9c",
   "metadata": {},
   "outputs": [],
   "source": [
    "#Which country is using which vaccine\n",
    "\n",
    "\n",
    "for value in vaccines:\n",
    "    index=0\n",
    "    for x in df_grouped_by_country['Vaccines']:\n",
    "        if value==x:\n",
    "            print('Vaccines : {v} \\nCountries : {c}\\n'.format(v=value,c=df_grouped_by_country['Country'][index]))\n",
    "            index+=1\n",
    "        else:\n",
    "            index+=1"
   ]
  },
  {
   "cell_type": "code",
   "execution_count": null,
   "id": "a4f96594",
   "metadata": {},
   "outputs": [],
   "source": [
    "#grouing countries based on common vaccines they are using\n",
    "\n",
    "for value in vaccines:\n",
    "    countries = df_grouped_by_country.loc[df_grouped_by_country['Vaccines']==value, 'Country'].values\n",
    "    \n",
    "    #countries will be array  of the countries that use common vaccines\n",
    "    \n",
    "    print(f\"Vaccines: {value}: \\nCountries Using: {list(countries)}\\n\")"
   ]
  },
  {
   "cell_type": "code",
   "execution_count": null,
   "id": "ae48f06e",
   "metadata": {},
   "outputs": [],
   "source": [
    "fig = px.choropleth(locations=df_grouped_by_country['Country'], \n",
    "                    locationmode=\"country names\",\n",
    "                    color=df_grouped_by_country['Vaccines'],\n",
    "                    title=\"Countries using common vaccines\")\n",
    "\n",
    "fig.update_layout(width=1600,margin=dict(l=80, r=80, t=80, b=50))\n",
    "fig.show()"
   ]
  },
  {
   "cell_type": "markdown",
   "id": "f66e810f",
   "metadata": {},
   "source": [
    "WHICH VACCINES ARE BEING USED THE MOST"
   ]
  },
  {
   "cell_type": "code",
   "execution_count": null,
   "id": "ab381356",
   "metadata": {},
   "outputs": [],
   "source": [
    "#Grouped by vaccines\n",
    "\n",
    "df_grouped_by_vaccine=df.groupby('vaccines')['total_vaccinations','total_vaccinations_per_hundred',\n",
    "                                       'daily_vaccinations','daily_vaccinations_per_million']"
   ]
  },
  {
   "cell_type": "code",
   "execution_count": null,
   "id": "2576d82a",
   "metadata": {},
   "outputs": [],
   "source": [
    "df_grouped_by_vaccine=df_grouped_by_vaccine.max().reset_index()"
   ]
  },
  {
   "cell_type": "code",
   "execution_count": null,
   "id": "2bd7d53c",
   "metadata": {},
   "outputs": [],
   "source": [
    "df_grouped_by_vaccine"
   ]
  },
  {
   "cell_type": "code",
   "execution_count": null,
   "id": "cadf1fa1",
   "metadata": {},
   "outputs": [],
   "source": [
    "#Renaming the columns selected\n",
    "\n",
    "df_grouped_by_vaccine.columns=[\"Vaccines\", \"Total vaccinations\", \"Percent\", \"Daily vaccinations\", \"Daily vaccinations per million\"]"
   ]
  },
  {
   "cell_type": "code",
   "execution_count": null,
   "id": "6d8179b4",
   "metadata": {},
   "outputs": [],
   "source": [
    "df_grouped_by_vaccine"
   ]
  },
  {
   "cell_type": "code",
   "execution_count": null,
   "id": "c4ff2679",
   "metadata": {},
   "outputs": [],
   "source": [
    "fig=px.bar(data_frame=df_grouped_by_vaccine.sort_values('Total vaccinations',ascending=False),x='Vaccines',y='Total vaccinations',\n",
    "      width=1000, height=1000,title='Group of vaccines widely used')\n",
    "\n",
    "fig.update_layout(\n",
    "    margin=dict(l=30, r=20, t=80, b=20))\n",
    "\n",
    "fig.show()"
   ]
  },
  {
   "cell_type": "code",
   "execution_count": null,
   "id": "8729700d",
   "metadata": {},
   "outputs": [],
   "source": [
    "fig = px.treemap(df_grouped_by_country, path = ['Vaccines', 'Country'], values = 'Total vaccinations',\n",
    "                title=\"Total vaccinations per country (grouped by vaccine scheme)\")\n",
    "fig.show()"
   ]
  },
  {
   "cell_type": "code",
   "execution_count": null,
   "id": "c0231227",
   "metadata": {},
   "outputs": [],
   "source": [
    "fig = px.treemap(df_grouped_by_country, path = ['Vaccines', 'Country'], values = 'Daily vaccinations',\n",
    "                title=\"Daily vaccinations per country (grouped by vaccine scheme)\")\n",
    "fig.show()"
   ]
  },
  {
   "cell_type": "code",
   "execution_count": null,
   "id": "10d2cc3d",
   "metadata": {},
   "outputs": [],
   "source": [
    "fig = px.treemap(df_grouped_by_country, path = ['Vaccines', 'Country'], values = 'People vaccinated',\n",
    "                title=\"People vaccinated per country (grouped by vaccine scheme)\")\n",
    "fig.show()"
   ]
  },
  {
   "cell_type": "markdown",
   "id": "9ef7c279",
   "metadata": {},
   "source": [
    "DATA RELATED TO COUNTRIES"
   ]
  },
  {
   "cell_type": "code",
   "execution_count": null,
   "id": "d5a15629",
   "metadata": {},
   "outputs": [],
   "source": [
    "fig=px.bar(data_frame=df_grouped_by_country.sort_values('Total vaccinations',ascending=False),x='Country',y='Total vaccinations',\n",
    "      width=1000, height=500,title='Countries doing most vaccinations')\n",
    "\n",
    "fig.update_layout(\n",
    "    margin=dict(l=20, r=20, t=50, b=20))\n",
    "\n",
    "fig.show()"
   ]
  },
  {
   "cell_type": "code",
   "execution_count": null,
   "id": "dd94041d",
   "metadata": {},
   "outputs": [],
   "source": [
    "fig=px.bar(data_frame=df_grouped_by_country.sort_values('Percent',ascending=False),x='Country',y='Percent',\n",
    "      width=1000, height=500,title='countries having most number of vaccinations per population')\n",
    "\n",
    "fig.update_layout(\n",
    "    margin=dict(l=20, r=20, t=50, b=20))\n",
    "\n",
    "fig.show()\n",
    "\n",
    "#no of vaccines could be more than total population since some vaccines have two shots"
   ]
  },
  {
   "cell_type": "code",
   "execution_count": null,
   "id": "aa83a548",
   "metadata": {},
   "outputs": [],
   "source": [
    "fig=px.bar(data_frame=df_grouped_by_country.sort_values('Daily vaccinations',ascending=False),x='Country',y='Daily vaccinations',\n",
    "      width=1000, height=500,title='Countries doing most daily vaccinations')\n",
    "\n",
    "fig.update_layout(\n",
    "    margin=dict(l=20, r=20, t=50, b=20))\n",
    "\n",
    "fig.show()"
   ]
  },
  {
   "cell_type": "code",
   "execution_count": null,
   "id": "2c1c803d",
   "metadata": {},
   "outputs": [],
   "source": [
    "fig=px.bar(data_frame=df_grouped_by_country.sort_values('People vaccinated',ascending=False),x='Country',y='People vaccinated',\n",
    "      width=1000, height=500,title='most people vaccinated as per countries')\n",
    "\n",
    "fig.update_layout(\n",
    "    margin=dict(l=20, r=20, t=50, b=20))\n",
    "\n",
    "fig.show()\n"
   ]
  },
  {
   "cell_type": "markdown",
   "id": "a96a42c2",
   "metadata": {},
   "source": [
    "BUBBLE CHART"
   ]
  },
  {
   "cell_type": "code",
   "execution_count": null,
   "id": "2cc5e1ec",
   "metadata": {},
   "outputs": [],
   "source": [
    "fig=px.scatter(data_frame=df_grouped_by_country,x=\"Total vaccinations\", y=\"Percent\",color=\"Vaccines\",size=\"Total vaccinations\",\n",
    "              hover_name=\"Country\",title = \"Vaccinations (Total vs. Percent), (grouped per country and vaccines)\",size_max=40,orientation='h',\n",
    "              width=1600)\n",
    "\n",
    "\n",
    "fig.update_layout(\n",
    "    margin=dict(l=90, r=50, t=50, b=80))\n",
    "\n",
    "fig.show()"
   ]
  },
  {
   "cell_type": "code",
   "execution_count": null,
   "id": "50b8d79e",
   "metadata": {},
   "outputs": [],
   "source": [
    "fig=px.scatter(data_frame=df_grouped_by_country,x=\"Total vaccinations\", y=\"Daily vaccinations\",color=\"Vaccines\",size=\"Total vaccinations\",\n",
    "              hover_name=\"Country\", title = \"Vaccinations (Total vs. Daily), (grouped per country and vaccines)\",size_max=40,orientation='v',\n",
    "              width=1600)\n",
    "\n",
    "\n",
    "fig.update_layout(\n",
    "    margin=dict(l=90, r=50, t=50, b=80))\n",
    "\n",
    "fig.show()"
   ]
  },
  {
   "cell_type": "code",
   "execution_count": null,
   "id": "3aee30c4",
   "metadata": {},
   "outputs": [],
   "source": [
    "fig=px.scatter(data_frame=df_grouped_by_country, x=\"Percent\", y=\"Daily vaccinations per million\",color=\"Vaccines\",size=\"Total vaccinations\",\n",
    "              hover_name=\"Country\",title = \"Vaccinations (Percent vs. Daily / million) grouped per country and vaccines\",size_max=40,orientation='v',\n",
    "              width=1600,range_y=[0,30000])\n",
    "\n",
    "\n",
    "fig.update_layout(\n",
    "    margin=dict(l=90, r=50, t=50, b=80))\n",
    "\n",
    "fig.show()"
   ]
  },
  {
   "cell_type": "code",
   "execution_count": null,
   "id": "f4af39d6",
   "metadata": {},
   "outputs": [],
   "source": [
    "data=go.Choropleth(locations=df_grouped_by_country['Country'],\n",
    "                  locationmode='country names',\n",
    "                  z = df_grouped_by_country['Total vaccinations'],\n",
    "                  text=df_grouped_by_country['Country'],\n",
    "                  colorbar={'title':'Total Vaccinations'},\n",
    "                  colorscale='ylorrd')\n",
    "\n",
    "layout=go.Layout(title='Total Vaccinations per Country',\n",
    "                geo=dict(showframe=True,projection={'type':'natural earth'}))\n",
    "\n",
    "fig=dict(data=[data],layout=layout)\n",
    "\n",
    "iplot(fig)"
   ]
  },
  {
   "cell_type": "code",
   "execution_count": null,
   "id": "b5432e25",
   "metadata": {},
   "outputs": [],
   "source": [
    "data=go.Choropleth(locations=df_grouped_by_country['Country'],\n",
    "                  locationmode='country names',\n",
    "                  z = df_grouped_by_country['Percent'],\n",
    "                  text=df_grouped_by_country['Country'],\n",
    "                  colorbar={'title':'Percent'},\n",
    "                  colorscale='oryel')\n",
    "\n",
    "layout=go.Layout(title = 'Total vaccinations per population per country',\n",
    "                geo=dict(showframe=True,projection={'type':'natural earth'}))\n",
    "\n",
    "fig=dict(data=[data],layout=layout)\n",
    "\n",
    "iplot(fig)"
   ]
  },
  {
   "cell_type": "code",
   "execution_count": null,
   "id": "7b309fc9",
   "metadata": {},
   "outputs": [],
   "source": [
    "data=dict(type='choropleth',\n",
    "         locations=df_grouped_by_country['Country'],\n",
    "                  locationmode='country names',\n",
    "                  z = df_grouped_by_country['Daily vaccinations'],\n",
    "                  text=df_grouped_by_country['Country'],\n",
    "                  colorbar={'title':'Daily vaccinations'},\n",
    "                  colorscale='speed')\n",
    "\n",
    "layout=dict(title = 'Daily vaccinations per country',\n",
    "                geo=dict(showframe=True,projection={'type':'natural earth'}))\n",
    "\n",
    "choromap=go.Figure(data=[data],layout=layout)\n",
    "\n",
    "iplot(choromap)"
   ]
  },
  {
   "cell_type": "code",
   "execution_count": null,
   "id": "37fba0c5",
   "metadata": {},
   "outputs": [],
   "source": [
    "data=dict(type='choropleth',\n",
    "         locations=df_grouped_by_country['Country'],\n",
    "                  locationmode='country names',\n",
    "                  z = df_grouped_by_country['People vaccinated'],\n",
    "                  text=df_grouped_by_country['Country'],\n",
    "                  colorbar={'title':'People vaccinated'},\n",
    "                  colorscale='Greens')\n",
    "\n",
    "layout=dict(title = 'People vaccinationed per country',\n",
    "                geo=dict(showframe=True,projection={'type':'natural earth'}))\n",
    "\n",
    "choromap=go.Figure(data=[data],layout=layout)\n",
    "\n",
    "iplot(choromap)"
   ]
  },
  {
   "cell_type": "code",
   "execution_count": null,
   "id": "56eeafa8",
   "metadata": {},
   "outputs": [],
   "source": [
    "data=dict(type='choropleth',\n",
    "         locations=df_grouped_by_country['Country'],\n",
    "                  locationmode='country names',\n",
    "                  z = df_grouped_by_country['People vaccinated per hundred'],\n",
    "                  text=df_grouped_by_country['Country'],\n",
    "                  colorbar={'title':'People vaccinated per hundred'},\n",
    "                  colorscale='temps')\n",
    "\n",
    "layout=dict(title = 'People vaccinationed per population per country',\n",
    "                geo=dict(showframe=True,projection={'type':'natural earth'}))\n",
    "\n",
    "choromap=go.Figure(data=[data],layout=layout)\n",
    "\n",
    "iplot(choromap)"
   ]
  },
  {
   "cell_type": "markdown",
   "id": "155e472f",
   "metadata": {},
   "source": [
    "HOW THE VACCINATION PROCESS PROGRESSED"
   ]
  },
  {
   "cell_type": "code",
   "execution_count": null,
   "id": "fadaf9e1",
   "metadata": {},
   "outputs": [],
   "source": [
    "#creating a new dataframe to see how vaccination progressed\n",
    "#now we are including dates also\n",
    "#not refering to max values now\n",
    "\n",
    "country_vaccine_time = df[[\"country\", \"vaccines\", \"date\", 'total_vaccinations', \n",
    "                                'total_vaccinations_per_hundred',  'people_vaccinated','people_vaccinated_per_hundred',\n",
    "                               'daily_vaccinations','daily_vaccinations_per_million', \n",
    "                                'people_fully_vaccinated', 'people_fully_vaccinated_per_hundred'\n",
    "                               ]].dropna()\n",
    "country_vaccine_time.columns = [\"Country\", \"Vaccines\", \"Date\", 'Total vaccinations', 'Percent', 'People vaccinated', 'People percent',\n",
    "                               \"Daily vaccinations\", \"Daily vaccinations per million\", \n",
    "                                'People fully vaccinated', 'People fully vaccinated percent']"
   ]
  },
  {
   "cell_type": "code",
   "execution_count": null,
   "id": "c731686a",
   "metadata": {},
   "outputs": [],
   "source": [
    "#selecting some particular countries\n",
    "\n",
    "selected_countries=country_vaccine_time.set_index('Country').loc[['India','Germany','France', 'United States', 'United Kingdom', 'Japan','Italy','Israel','Australia','Spain']]"
   ]
  },
  {
   "cell_type": "code",
   "execution_count": null,
   "id": "7ace2488",
   "metadata": {},
   "outputs": [],
   "source": [
    "country_vaccine_time.head()"
   ]
  },
  {
   "cell_type": "code",
   "execution_count": null,
   "id": "3a27cef6",
   "metadata": {},
   "outputs": [],
   "source": [
    "fig=px.line(selected_countries,x='Date',y='Percent',line_group=selected_countries.index,hover_name=selected_countries.index,color=selected_countries.index,\n",
    "           title='Total vaccination percent timeline (selected countries)')\n",
    "fig.show()"
   ]
  },
  {
   "cell_type": "code",
   "execution_count": null,
   "id": "0a6ac50b",
   "metadata": {},
   "outputs": [],
   "source": [
    "fig=px.line(selected_countries,x='Date',y='Total vaccinations',line_group=selected_countries.index,hover_name=selected_countries.index,color=selected_countries.index,\n",
    "           title= 'Total vaccination timeline (selected countries)',log_y=True)\n",
    "fig.show()"
   ]
  },
  {
   "cell_type": "code",
   "execution_count": null,
   "id": "9d4d7901",
   "metadata": {},
   "outputs": [],
   "source": [
    "fig=px.line(selected_countries,x='Date',y='People vaccinated',line_group=selected_countries.index,hover_name=selected_countries.index,color=selected_countries.index,\n",
    "           title= 'People vaccinated timeline (selected countries)',log_y=True)\n",
    "fig.show()"
   ]
  },
  {
   "cell_type": "code",
   "execution_count": null,
   "id": "7e18ea55",
   "metadata": {},
   "outputs": [],
   "source": [
    "fig=px.line(selected_countries,x='Date',y='Daily vaccinations',line_group=selected_countries.index,hover_name=selected_countries.index,color=selected_countries.index,\n",
    "           title= 'Daily vaccinations timeline (selected countries)')\n",
    "fig.show()"
   ]
  },
  {
   "cell_type": "code",
   "execution_count": null,
   "id": "68dc89eb",
   "metadata": {},
   "outputs": [],
   "source": [
    "fig=px.line(selected_countries,x='Date',y='People fully vaccinated',line_group=selected_countries.index,hover_name=selected_countries.index,color=selected_countries.index,\n",
    "           title= 'People fully vaccinated timeline (selected countries)',log_y=True)\n",
    "fig.show()"
   ]
  },
  {
   "cell_type": "markdown",
   "id": "7d8929aa",
   "metadata": {},
   "source": [
    "MERGING EVERYTHING IN A VIDEO VISUALIZATION"
   ]
  },
  {
   "cell_type": "code",
   "execution_count": null,
   "id": "7cad6dab",
   "metadata": {},
   "outputs": [],
   "source": [
    "#plot of number of people vaccinated vs. daily vaccinations per million for each country \n",
    "#(where size of data point depends on daily vaccinations number)\n",
    "\n",
    "px.scatter(country_vaccine_time,x='People vaccinated',y='Daily vaccinations per million',animation_frame='Date',animation_group='Country',\n",
    "          size='Daily vaccinations',color='Country',hover_name='Country',range_x=[0,80000000],size_max=50)"
   ]
  },
  {
   "cell_type": "code",
   "execution_count": null,
   "id": "e9004504",
   "metadata": {},
   "outputs": [],
   "source": [
    "#plot of number of people vaccinated vs. daily vaccinations per million for selected countries country \n",
    "#(where size of data point depends on daily vaccinations number)\n",
    "\n",
    "px.scatter(selected_countries,x='People vaccinated',y='Daily vaccinations per million',animation_frame='Date',animation_group=selected_countries.index,\n",
    "          size='Daily vaccinations',color=selected_countries.index,hover_name=selected_countries.index,size_max=50,range_x=[0,200000000])"
   ]
  },
  {
   "cell_type": "code",
   "execution_count": null,
   "id": "7a438bef",
   "metadata": {},
   "outputs": [],
   "source": [
    "#plot of number of people vaccinated vs. people vaccinated per hundred for selected countries country \n",
    "#(where size of data point depends on people fully vaccinated percent)\n",
    "\n",
    "px.scatter(selected_countries,x='People vaccinated',y='People percent',animation_frame='Date',animation_group=selected_countries.index,\n",
    "          size='People fully vaccinated percent',color=selected_countries.index,hover_name=selected_countries.index,range_x=[0,50000000],range_y=[0,100],size_max=40 )"
   ]
  },
  {
   "cell_type": "code",
   "execution_count": null,
   "id": "458ee55a",
   "metadata": {},
   "outputs": [],
   "source": []
  }
 ],
 "metadata": {
  "kernelspec": {
   "display_name": "Python 3 (ipykernel)",
   "language": "python",
   "name": "python3"
  },
  "language_info": {
   "codemirror_mode": {
    "name": "ipython",
    "version": 3
   },
   "file_extension": ".py",
   "mimetype": "text/x-python",
   "name": "python",
   "nbconvert_exporter": "python",
   "pygments_lexer": "ipython3",
   "version": "3.9.12"
  }
 },
 "nbformat": 4,
 "nbformat_minor": 5
}
